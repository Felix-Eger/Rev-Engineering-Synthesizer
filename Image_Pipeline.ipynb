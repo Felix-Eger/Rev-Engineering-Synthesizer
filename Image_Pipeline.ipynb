{
  "nbformat": 4,
  "nbformat_minor": 0,
  "metadata": {
    "colab": {
      "name": "Image_Pipeline.ipynb",
      "provenance": [],
      "mount_file_id": "1kuvo5FXEv6pmrmsn37TK_R4qECl2VvsG",
      "authorship_tag": "ABX9TyO8I41WRxBukhQUZqcdpEz2",
      "include_colab_link": true
    },
    "kernelspec": {
      "name": "python3",
      "display_name": "Python 3"
    },
    "language_info": {
      "name": "python"
    },
    "accelerator": "GPU",
    "gpuClass": "standard"
  },
  "cells": [
    {
      "cell_type": "markdown",
      "metadata": {
        "id": "view-in-github",
        "colab_type": "text"
      },
      "source": [
        "<a href=\"https://colab.research.google.com/github/Felix-Eger/Rev-Engineering-Synthesizer/blob/main/Image_Pipeline.ipynb\" target=\"_parent\"><img src=\"https://colab.research.google.com/assets/colab-badge.svg\" alt=\"Open In Colab\"/></a>"
      ]
    },
    {
      "cell_type": "code",
      "source": [
        "!pip install pyspark"
      ],
      "metadata": {
        "colab": {
          "base_uri": "https://localhost:8080/"
        },
        "id": "tRACt0m4Wddd",
        "outputId": "6b5fe66a-c889-4d9c-994f-6d8988cebb4c"
      },
      "execution_count": null,
      "outputs": [
        {
          "output_type": "stream",
          "name": "stdout",
          "text": [
            "Looking in indexes: https://pypi.org/simple, https://us-python.pkg.dev/colab-wheels/public/simple/\n",
            "Collecting pyspark\n",
            "  Downloading pyspark-3.3.0.tar.gz (281.3 MB)\n",
            "\u001b[K     |████████████████████████████████| 281.3 MB 50 kB/s \n",
            "\u001b[?25hCollecting py4j==0.10.9.5\n",
            "  Downloading py4j-0.10.9.5-py2.py3-none-any.whl (199 kB)\n",
            "\u001b[K     |████████████████████████████████| 199 kB 55.1 MB/s \n",
            "\u001b[?25hBuilding wheels for collected packages: pyspark\n",
            "  Building wheel for pyspark (setup.py) ... \u001b[?25l\u001b[?25hdone\n",
            "  Created wheel for pyspark: filename=pyspark-3.3.0-py2.py3-none-any.whl size=281764026 sha256=d8631b7ba1039312e872fb6299c0b81c16b33fb1aa4c261bdd36ed919ed1bd9f\n",
            "  Stored in directory: /root/.cache/pip/wheels/7a/8e/1b/f73a52650d2e5f337708d9f6a1750d451a7349a867f928b885\n",
            "Successfully built pyspark\n",
            "Installing collected packages: py4j, pyspark\n",
            "Successfully installed py4j-0.10.9.5 pyspark-3.3.0\n"
          ]
        }
      ]
    },
    {
      "cell_type": "code",
      "execution_count": null,
      "metadata": {
        "id": "2sOojzkqWJgO"
      },
      "outputs": [],
      "source": [
        "import pandas as pd\n",
        "import numpy as np \n",
        "import librosa\n",
        "import os\n",
        "import pyspark\n",
        "from pyspark.sql import SparkSession\n",
        "from pathlib import Path\n",
        "import matplotlib.pyplot as plt\n",
        "import librosa.display"
      ]
    },
    {
      "cell_type": "code",
      "source": [
        "def save_spectrogram(audio_fname):\n",
        "    '''takes a path of an audio file and returns the mel spectrogram in relation to Hz and key'''\n",
        "    \n",
        "    #main_path = r\"D:\\Audio-Analysis\\Audio-files\\Presets_original\"\n",
        "    main_path = r\"/content/drive/MyDrive/Big Data/Audio/Audio_original\"\n",
        "    \n",
        "    com_path = main_path + '/' + audio_fname\n",
        "    \n",
        "    y, sr = librosa.load(com_path, sr=None)\n",
        "    \n",
        "    yt, index = librosa.effects.trim(y)\n",
        "\n",
        "    hl = 512 # number of samples per time-step in spectrogram\n",
        "    hi = 128 # Height of image\n",
        "    wi = 384 # Width of image\n",
        "\n",
        "    window = yt[0:wi*hl]\n",
        "    S = librosa.feature.melspectrogram(y=window, sr=sr, n_mels=hi, fmax=8000, hop_length=hl)\n",
        "\n",
        "    fig, ax = plt.subplots()\n",
        "\n",
        "    S_dB = librosa.power_to_db(S, ref=np.max)\n",
        "    img = librosa.display.specshow(S_dB)#, x_axis='time', y_axis='mel', sr=sr, fmax=8000, ax=ax)\n",
        "    #fig.colorbar(img)#, ax=ax, format='%+2.0f dB')\n",
        "    \n",
        "    image_fname = audio_fname[:-4] \n",
        "\n",
        "    image_dir_path = r\"/content/drive/MyDrive/Big Data/Images/Images_original/Mel_Spec\"\n",
        "    \n",
        "    \n",
        "    if image_dir_path:\n",
        "        image_fname = Path(image_dir_path).as_posix() + '/' + image_fname\n",
        "    if Path(image_fname).exists(): \n",
        "        return None\n",
        "    \n",
        "    try:\n",
        "        plt.savefig(image_fname, dpi=100)\n",
        "    except ValueError as verr:\n",
        "        print('Failed to process %s %s' % (image_fname, verr))    \n",
        "\n",
        "    return None"
      ],
      "metadata": {
        "id": "nKnBZe1ilUou"
      },
      "execution_count": null,
      "outputs": []
    },
    {
      "cell_type": "code",
      "source": [
        "def save_mfcc(audio_fname):\n",
        "    '''takes a path of an audio file and returns the mel spectrogram in relation to Hz and key'''\n",
        "    \n",
        "    #main_path = r\"D:\\Audio-Analysis\\Audio-files\\Presets_original\"\n",
        "    main_path = r\"/content/drive/MyDrive/Big Data/Audio/Audio_original\"\n",
        "    \n",
        "    com_path = main_path + '/' + audio_fname\n",
        "    \n",
        "    y, sr = librosa.load(com_path, sr=None)\n",
        "    \n",
        "    yt, index = librosa.effects.trim(y)\n",
        "\n",
        "    hl = 512 # number of samples per time-step in spectrogram\n",
        "    hi = 128 # Height of image\n",
        "    wi = 384 # Width of image\n",
        "\n",
        "    window = yt[0:wi*hl]\n",
        "    \n",
        "    S = librosa.feature.melspectrogram(y=window, sr=sr, n_mels=hi, fmax=8000, hop_length=hl)\n",
        "    m_htk = librosa.feature.mfcc(S=librosa.power_to_db(S), dct_type=3)\n",
        "    \n",
        "    fig, ax = plt.subplots() \n",
        "    img = librosa.display.specshow(m_htk)\n",
        "    #fig.colorbar(img)\n",
        "    \n",
        "    image_fname = audio_fname[:-4] \n",
        "\n",
        "    image_dir_path = r\"/content/drive/MyDrive/Big Data/Images/Images_original/MFCC\"\n",
        "    \n",
        "    \n",
        "    if image_dir_path:\n",
        "        image_fname = Path(image_dir_path).as_posix() + '/' + image_fname\n",
        "    if Path(image_fname).exists(): \n",
        "        return None\n",
        "    \n",
        "    try:\n",
        "        plt.savefig(image_fname, dpi=100)\n",
        "    except ValueError as verr:\n",
        "        print('Failed to process %s %s' % (image_fname, verr))    \n",
        "\n",
        "    return None"
      ],
      "metadata": {
        "id": "ikwmi6b_pWQ0"
      },
      "execution_count": null,
      "outputs": []
    },
    {
      "cell_type": "code",
      "source": [
        "aud_dir = r\"/content/drive/MyDrive/Big Data/Audio/Audio_original\""
      ],
      "metadata": {
        "id": "idjNBFQ5XUaW"
      },
      "execution_count": null,
      "outputs": []
    },
    {
      "cell_type": "code",
      "source": [
        "file_names = [name for name in os.listdir(aud_dir)]"
      ],
      "metadata": {
        "id": "jNJMxqBNlvoM"
      },
      "execution_count": null,
      "outputs": []
    },
    {
      "cell_type": "code",
      "source": [
        "len(file_names)"
      ],
      "metadata": {
        "colab": {
          "base_uri": "https://localhost:8080/"
        },
        "id": "pb1u6UK3l0mW",
        "outputId": "dcd49e67-002b-4c49-8834-dd0a8614ad2f"
      },
      "execution_count": null,
      "outputs": [
        {
          "output_type": "execute_result",
          "data": {
            "text/plain": [
              "1461"
            ]
          },
          "metadata": {},
          "execution_count": 21
        }
      ]
    },
    {
      "cell_type": "code",
      "source": [
        "from pyspark.sql import SparkSession\n",
        "#spark = spark = SparkSession.builder().master(\"local[1]\").appName(\"SparkByExamples.com\").getOrCreate()\n",
        "\n",
        "spark = SparkSession.builder.master(\"local[1]\").appName(\"SparkByExamples.com\").getOrCreate()"
      ],
      "metadata": {
        "id": "Mop6yJrbl2d4"
      },
      "execution_count": null,
      "outputs": []
    },
    {
      "cell_type": "code",
      "source": [
        "rdd = spark.sparkContext.parallelize(file_names)"
      ],
      "metadata": {
        "id": "3zI9ZYPLmSZz"
      },
      "execution_count": null,
      "outputs": []
    },
    {
      "cell_type": "code",
      "source": [
        "rdd3=rdd.map(lambda x: save_mfcc(x))\n",
        "\n",
        "rdd_final3 = rdd3.collect()"
      ],
      "metadata": {
        "id": "ydGioATsmpRi"
      },
      "execution_count": null,
      "outputs": []
    },
    {
      "cell_type": "code",
      "source": [
        ""
      ],
      "metadata": {
        "id": "cAJNuqr6mwrp"
      },
      "execution_count": null,
      "outputs": []
    }
  ]
}