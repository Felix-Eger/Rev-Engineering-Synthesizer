{
  "nbformat": 4,
  "nbformat_minor": 0,
  "metadata": {
    "colab": {
      "name": "Modeling_CNN.ipynb",
      "provenance": [],
      "collapsed_sections": [],
      "mount_file_id": "1YxFx5LE4auXaRRKzRb5W2FOp4n4nz6NR",
      "authorship_tag": "ABX9TyMfsFqSMuuQ8GwZ/N2ahib3",
      "include_colab_link": true
    },
    "kernelspec": {
      "name": "python3",
      "display_name": "Python 3"
    },
    "language_info": {
      "name": "python"
    },
    "accelerator": "GPU",
    "gpuClass": "standard"
  },
  "cells": [
    {
      "cell_type": "markdown",
      "metadata": {
        "id": "view-in-github",
        "colab_type": "text"
      },
      "source": [
        "<a href=\"https://colab.research.google.com/github/Felix-Eger/Rev-Engineering-Synthesizer/blob/main/Modeling_CNN.ipynb\" target=\"_parent\"><img src=\"https://colab.research.google.com/assets/colab-badge.svg\" alt=\"Open In Colab\"/></a>"
      ]
    },
    {
      "cell_type": "code",
      "execution_count": null,
      "metadata": {
        "id": "oUkMUOVQOD15"
      },
      "outputs": [],
      "source": [
        "import keras\n",
        "import os\n",
        "import pandas as pd \n",
        "import numpy as np\n",
        "from keras.models import Sequential\n",
        "from keras.layers import Dense, Conv2D, Flatten\n",
        "import PIL\n",
        "import tensorflow as tf"
      ]
    },
    {
      "cell_type": "code",
      "source": [
        "img_mel_mfcc_path = r\"/content/drive/MyDrive/Big Data/Images/Images_original/MFCC\"\n",
        "\n",
        "csv_path = r'/content/drive/MyDrive/Big Data/parameter_original.csv'"
      ],
      "metadata": {
        "id": "XY7hy5YzPZfB"
      },
      "execution_count": null,
      "outputs": []
    },
    {
      "cell_type": "code",
      "source": [
        "# loading images\n",
        "\n",
        "img_list = [int(img[:-4]) for img in os.listdir(img_mel_mfcc_path)]"
      ],
      "metadata": {
        "id": "ua5QKyNSPTFn"
      },
      "execution_count": null,
      "outputs": []
    },
    {
      "cell_type": "code",
      "source": [
        "img_list[0]"
      ],
      "metadata": {
        "colab": {
          "base_uri": "https://localhost:8080/"
        },
        "id": "efTIdl1jPxMO",
        "outputId": "eb0753fa-6897-4fd6-961a-b3cb422ec4c4"
      },
      "execution_count": null,
      "outputs": [
        {
          "output_type": "execute_result",
          "data": {
            "text/plain": [
              "1425752491443555895"
            ]
          },
          "metadata": {},
          "execution_count": 4
        }
      ]
    },
    {
      "cell_type": "code",
      "source": [
        "df = pd.read_csv(csv_path)"
      ],
      "metadata": {
        "id": "GJ5WCWIZQMMO"
      },
      "execution_count": null,
      "outputs": []
    },
    {
      "cell_type": "code",
      "source": [
        "df_new = df.set_index(\"pre_id\")"
      ],
      "metadata": {
        "id": "X6CuyVrQQUFR"
      },
      "execution_count": null,
      "outputs": []
    },
    {
      "cell_type": "code",
      "source": [
        "df_new = df_new.loc[img_list]"
      ],
      "metadata": {
        "id": "S0KMeLRwQX24"
      },
      "execution_count": null,
      "outputs": []
    },
    {
      "cell_type": "code",
      "source": [
        "df_new.head()"
      ],
      "metadata": {
        "colab": {
          "base_uri": "https://localhost:8080/",
          "height": 383
        },
        "id": "iFL-84KBQaGM",
        "outputId": "e6491ea9-974d-44f6-fef2-f516406d4c30"
      },
      "execution_count": null,
      "outputs": [
        {
          "output_type": "execute_result",
          "data": {
            "text/plain": [
              "                      0: AmpEnv A Attack  1: AmpEnv A Decay  \\\n",
              "pre_id                                                        \n",
              " 1425752491443555895                0.00               0.51   \n",
              "-3711710571568570993                0.00               0.70   \n",
              " 815569051036731847                 0.01               0.73   \n",
              " 1575376974619500677                0.02               0.00   \n",
              " 1563301203662006318                0.00               0.35   \n",
              "\n",
              "                      2: AmpEnv A Release  3: AmpEnv A Sustain  \\\n",
              "pre_id                                                           \n",
              " 1425752491443555895                 0.48                 0.38   \n",
              "-3711710571568570993                 0.35                 0.00   \n",
              " 815569051036731847                  0.20                 0.84   \n",
              " 1575376974619500677                 0.00                 0.00   \n",
              " 1563301203662006318                 0.01                 0.00   \n",
              "\n",
              "                      4: AmpEnv B Attack  5: AmpEnv B Decay  \\\n",
              "pre_id                                                        \n",
              " 1425752491443555895                0.00               0.55   \n",
              "-3711710571568570993                0.00               0.00   \n",
              " 815569051036731847                 0.06               0.31   \n",
              " 1575376974619500677                0.00               0.00   \n",
              " 1563301203662006318                0.00               0.08   \n",
              "\n",
              "                      6: AmpEnv B Release  7: AmpEnv B Sustain  8: Arp Gate  \\\n",
              "pre_id                                                                        \n",
              " 1425752491443555895                 0.53                 0.32         0.50   \n",
              "-3711710571568570993                 0.01                 1.00         0.50   \n",
              " 815569051036731847                  0.66                 0.00         0.50   \n",
              " 1575376974619500677                 0.16                 1.00         1.00   \n",
              " 1563301203662006318                 0.01                 0.00         0.39   \n",
              "\n",
              "                      9: Arp Mode  ...  234: yModMisc1A Dest2  \\\n",
              "pre_id                             ...                          \n",
              " 1425752491443555895         0.00  ...                   0.00   \n",
              "-3711710571568570993         0.00  ...                   0.00   \n",
              " 815569051036731847          0.00  ...                   0.00   \n",
              " 1575376974619500677         0.89  ...                   0.44   \n",
              " 1563301203662006318         0.00  ...                   0.00   \n",
              "\n",
              "                      235: yModMisc1B Dest1  236: yModMisc1B Dest2  \\\n",
              "pre_id                                                               \n",
              " 1425752491443555895                   0.00                    0.0   \n",
              "-3711710571568570993                   0.00                    0.0   \n",
              " 815569051036731847                    0.81                    0.0   \n",
              " 1575376974619500677                   0.44                    0.0   \n",
              " 1563301203662006318                   0.00                    0.0   \n",
              "\n",
              "                      237: yModMisc2A Dest1  238: yModMisc2A Dest2  \\\n",
              "pre_id                                                               \n",
              " 1425752491443555895                   0.00                    0.0   \n",
              "-3711710571568570993                   0.00                    0.0   \n",
              " 815569051036731847                    0.72                    0.0   \n",
              " 1575376974619500677                   0.06                    0.0   \n",
              " 1563301203662006318                   0.00                    0.0   \n",
              "\n",
              "                      239: yModMisc2B Dest1  240: yModMisc2B Dest2  \\\n",
              "pre_id                                                               \n",
              " 1425752491443555895                    0.0                    0.0   \n",
              "-3711710571568570993                    0.0                    0.0   \n",
              " 815569051036731847                     0.0                    0.0   \n",
              " 1575376974619500677                    0.0                    0.0   \n",
              " 1563301203662006318                    0.0                    0.0   \n",
              "\n",
              "                      241: Part Select  242: EQ Mode  243: Arp Swing  \n",
              "pre_id                                                                \n",
              " 1425752491443555895               0.0           0.0             0.0  \n",
              "-3711710571568570993               0.0           0.0             0.0  \n",
              " 815569051036731847                0.0           0.0             0.0  \n",
              " 1575376974619500677               0.0           0.0             0.0  \n",
              " 1563301203662006318               0.0           0.0             0.0  \n",
              "\n",
              "[5 rows x 244 columns]"
            ],
            "text/html": [
              "\n",
              "  <div id=\"df-973f0807-af2d-400c-943a-44b88c67d309\">\n",
              "    <div class=\"colab-df-container\">\n",
              "      <div>\n",
              "<style scoped>\n",
              "    .dataframe tbody tr th:only-of-type {\n",
              "        vertical-align: middle;\n",
              "    }\n",
              "\n",
              "    .dataframe tbody tr th {\n",
              "        vertical-align: top;\n",
              "    }\n",
              "\n",
              "    .dataframe thead th {\n",
              "        text-align: right;\n",
              "    }\n",
              "</style>\n",
              "<table border=\"1\" class=\"dataframe\">\n",
              "  <thead>\n",
              "    <tr style=\"text-align: right;\">\n",
              "      <th></th>\n",
              "      <th>0: AmpEnv A Attack</th>\n",
              "      <th>1: AmpEnv A Decay</th>\n",
              "      <th>2: AmpEnv A Release</th>\n",
              "      <th>3: AmpEnv A Sustain</th>\n",
              "      <th>4: AmpEnv B Attack</th>\n",
              "      <th>5: AmpEnv B Decay</th>\n",
              "      <th>6: AmpEnv B Release</th>\n",
              "      <th>7: AmpEnv B Sustain</th>\n",
              "      <th>8: Arp Gate</th>\n",
              "      <th>9: Arp Mode</th>\n",
              "      <th>...</th>\n",
              "      <th>234: yModMisc1A Dest2</th>\n",
              "      <th>235: yModMisc1B Dest1</th>\n",
              "      <th>236: yModMisc1B Dest2</th>\n",
              "      <th>237: yModMisc2A Dest1</th>\n",
              "      <th>238: yModMisc2A Dest2</th>\n",
              "      <th>239: yModMisc2B Dest1</th>\n",
              "      <th>240: yModMisc2B Dest2</th>\n",
              "      <th>241: Part Select</th>\n",
              "      <th>242: EQ Mode</th>\n",
              "      <th>243: Arp Swing</th>\n",
              "    </tr>\n",
              "    <tr>\n",
              "      <th>pre_id</th>\n",
              "      <th></th>\n",
              "      <th></th>\n",
              "      <th></th>\n",
              "      <th></th>\n",
              "      <th></th>\n",
              "      <th></th>\n",
              "      <th></th>\n",
              "      <th></th>\n",
              "      <th></th>\n",
              "      <th></th>\n",
              "      <th></th>\n",
              "      <th></th>\n",
              "      <th></th>\n",
              "      <th></th>\n",
              "      <th></th>\n",
              "      <th></th>\n",
              "      <th></th>\n",
              "      <th></th>\n",
              "      <th></th>\n",
              "      <th></th>\n",
              "      <th></th>\n",
              "    </tr>\n",
              "  </thead>\n",
              "  <tbody>\n",
              "    <tr>\n",
              "      <th>1425752491443555895</th>\n",
              "      <td>0.00</td>\n",
              "      <td>0.51</td>\n",
              "      <td>0.48</td>\n",
              "      <td>0.38</td>\n",
              "      <td>0.00</td>\n",
              "      <td>0.55</td>\n",
              "      <td>0.53</td>\n",
              "      <td>0.32</td>\n",
              "      <td>0.50</td>\n",
              "      <td>0.00</td>\n",
              "      <td>...</td>\n",
              "      <td>0.00</td>\n",
              "      <td>0.00</td>\n",
              "      <td>0.0</td>\n",
              "      <td>0.00</td>\n",
              "      <td>0.0</td>\n",
              "      <td>0.0</td>\n",
              "      <td>0.0</td>\n",
              "      <td>0.0</td>\n",
              "      <td>0.0</td>\n",
              "      <td>0.0</td>\n",
              "    </tr>\n",
              "    <tr>\n",
              "      <th>-3711710571568570993</th>\n",
              "      <td>0.00</td>\n",
              "      <td>0.70</td>\n",
              "      <td>0.35</td>\n",
              "      <td>0.00</td>\n",
              "      <td>0.00</td>\n",
              "      <td>0.00</td>\n",
              "      <td>0.01</td>\n",
              "      <td>1.00</td>\n",
              "      <td>0.50</td>\n",
              "      <td>0.00</td>\n",
              "      <td>...</td>\n",
              "      <td>0.00</td>\n",
              "      <td>0.00</td>\n",
              "      <td>0.0</td>\n",
              "      <td>0.00</td>\n",
              "      <td>0.0</td>\n",
              "      <td>0.0</td>\n",
              "      <td>0.0</td>\n",
              "      <td>0.0</td>\n",
              "      <td>0.0</td>\n",
              "      <td>0.0</td>\n",
              "    </tr>\n",
              "    <tr>\n",
              "      <th>815569051036731847</th>\n",
              "      <td>0.01</td>\n",
              "      <td>0.73</td>\n",
              "      <td>0.20</td>\n",
              "      <td>0.84</td>\n",
              "      <td>0.06</td>\n",
              "      <td>0.31</td>\n",
              "      <td>0.66</td>\n",
              "      <td>0.00</td>\n",
              "      <td>0.50</td>\n",
              "      <td>0.00</td>\n",
              "      <td>...</td>\n",
              "      <td>0.00</td>\n",
              "      <td>0.81</td>\n",
              "      <td>0.0</td>\n",
              "      <td>0.72</td>\n",
              "      <td>0.0</td>\n",
              "      <td>0.0</td>\n",
              "      <td>0.0</td>\n",
              "      <td>0.0</td>\n",
              "      <td>0.0</td>\n",
              "      <td>0.0</td>\n",
              "    </tr>\n",
              "    <tr>\n",
              "      <th>1575376974619500677</th>\n",
              "      <td>0.02</td>\n",
              "      <td>0.00</td>\n",
              "      <td>0.00</td>\n",
              "      <td>0.00</td>\n",
              "      <td>0.00</td>\n",
              "      <td>0.00</td>\n",
              "      <td>0.16</td>\n",
              "      <td>1.00</td>\n",
              "      <td>1.00</td>\n",
              "      <td>0.89</td>\n",
              "      <td>...</td>\n",
              "      <td>0.44</td>\n",
              "      <td>0.44</td>\n",
              "      <td>0.0</td>\n",
              "      <td>0.06</td>\n",
              "      <td>0.0</td>\n",
              "      <td>0.0</td>\n",
              "      <td>0.0</td>\n",
              "      <td>0.0</td>\n",
              "      <td>0.0</td>\n",
              "      <td>0.0</td>\n",
              "    </tr>\n",
              "    <tr>\n",
              "      <th>1563301203662006318</th>\n",
              "      <td>0.00</td>\n",
              "      <td>0.35</td>\n",
              "      <td>0.01</td>\n",
              "      <td>0.00</td>\n",
              "      <td>0.00</td>\n",
              "      <td>0.08</td>\n",
              "      <td>0.01</td>\n",
              "      <td>0.00</td>\n",
              "      <td>0.39</td>\n",
              "      <td>0.00</td>\n",
              "      <td>...</td>\n",
              "      <td>0.00</td>\n",
              "      <td>0.00</td>\n",
              "      <td>0.0</td>\n",
              "      <td>0.00</td>\n",
              "      <td>0.0</td>\n",
              "      <td>0.0</td>\n",
              "      <td>0.0</td>\n",
              "      <td>0.0</td>\n",
              "      <td>0.0</td>\n",
              "      <td>0.0</td>\n",
              "    </tr>\n",
              "  </tbody>\n",
              "</table>\n",
              "<p>5 rows × 244 columns</p>\n",
              "</div>\n",
              "      <button class=\"colab-df-convert\" onclick=\"convertToInteractive('df-973f0807-af2d-400c-943a-44b88c67d309')\"\n",
              "              title=\"Convert this dataframe to an interactive table.\"\n",
              "              style=\"display:none;\">\n",
              "        \n",
              "  <svg xmlns=\"http://www.w3.org/2000/svg\" height=\"24px\"viewBox=\"0 0 24 24\"\n",
              "       width=\"24px\">\n",
              "    <path d=\"M0 0h24v24H0V0z\" fill=\"none\"/>\n",
              "    <path d=\"M18.56 5.44l.94 2.06.94-2.06 2.06-.94-2.06-.94-.94-2.06-.94 2.06-2.06.94zm-11 1L8.5 8.5l.94-2.06 2.06-.94-2.06-.94L8.5 2.5l-.94 2.06-2.06.94zm10 10l.94 2.06.94-2.06 2.06-.94-2.06-.94-.94-2.06-.94 2.06-2.06.94z\"/><path d=\"M17.41 7.96l-1.37-1.37c-.4-.4-.92-.59-1.43-.59-.52 0-1.04.2-1.43.59L10.3 9.45l-7.72 7.72c-.78.78-.78 2.05 0 2.83L4 21.41c.39.39.9.59 1.41.59.51 0 1.02-.2 1.41-.59l7.78-7.78 2.81-2.81c.8-.78.8-2.07 0-2.86zM5.41 20L4 18.59l7.72-7.72 1.47 1.35L5.41 20z\"/>\n",
              "  </svg>\n",
              "      </button>\n",
              "      \n",
              "  <style>\n",
              "    .colab-df-container {\n",
              "      display:flex;\n",
              "      flex-wrap:wrap;\n",
              "      gap: 12px;\n",
              "    }\n",
              "\n",
              "    .colab-df-convert {\n",
              "      background-color: #E8F0FE;\n",
              "      border: none;\n",
              "      border-radius: 50%;\n",
              "      cursor: pointer;\n",
              "      display: none;\n",
              "      fill: #1967D2;\n",
              "      height: 32px;\n",
              "      padding: 0 0 0 0;\n",
              "      width: 32px;\n",
              "    }\n",
              "\n",
              "    .colab-df-convert:hover {\n",
              "      background-color: #E2EBFA;\n",
              "      box-shadow: 0px 1px 2px rgba(60, 64, 67, 0.3), 0px 1px 3px 1px rgba(60, 64, 67, 0.15);\n",
              "      fill: #174EA6;\n",
              "    }\n",
              "\n",
              "    [theme=dark] .colab-df-convert {\n",
              "      background-color: #3B4455;\n",
              "      fill: #D2E3FC;\n",
              "    }\n",
              "\n",
              "    [theme=dark] .colab-df-convert:hover {\n",
              "      background-color: #434B5C;\n",
              "      box-shadow: 0px 1px 3px 1px rgba(0, 0, 0, 0.15);\n",
              "      filter: drop-shadow(0px 1px 2px rgba(0, 0, 0, 0.3));\n",
              "      fill: #FFFFFF;\n",
              "    }\n",
              "  </style>\n",
              "\n",
              "      <script>\n",
              "        const buttonEl =\n",
              "          document.querySelector('#df-973f0807-af2d-400c-943a-44b88c67d309 button.colab-df-convert');\n",
              "        buttonEl.style.display =\n",
              "          google.colab.kernel.accessAllowed ? 'block' : 'none';\n",
              "\n",
              "        async function convertToInteractive(key) {\n",
              "          const element = document.querySelector('#df-973f0807-af2d-400c-943a-44b88c67d309');\n",
              "          const dataTable =\n",
              "            await google.colab.kernel.invokeFunction('convertToInteractive',\n",
              "                                                     [key], {});\n",
              "          if (!dataTable) return;\n",
              "\n",
              "          const docLinkHtml = 'Like what you see? Visit the ' +\n",
              "            '<a target=\"_blank\" href=https://colab.research.google.com/notebooks/data_table.ipynb>data table notebook</a>'\n",
              "            + ' to learn more about interactive tables.';\n",
              "          element.innerHTML = '';\n",
              "          dataTable['output_type'] = 'display_data';\n",
              "          await google.colab.output.renderOutput(dataTable, element);\n",
              "          const docLink = document.createElement('div');\n",
              "          docLink.innerHTML = docLinkHtml;\n",
              "          element.appendChild(docLink);\n",
              "        }\n",
              "      </script>\n",
              "    </div>\n",
              "  </div>\n",
              "  "
            ]
          },
          "metadata": {},
          "execution_count": 8
        }
      ]
    },
    {
      "cell_type": "code",
      "source": [
        "params_to_drop = [8,9,10, 11, 12, 13, 14, 15, 16, 17, 18, 19, 20, 21, 22, 23, 24, 25, 26, 27, 28, 29, 30, 31, 32, 33, 34, 35, 36, 37, 38, 39 , 40,\n",
        "                  41, 68, 69, 70, 129, 130, 131, 132, 133, 134, 135, 136, 142, 143, 144, 145, 146, 147, 148, 149, 150, 151, 152, 153, 154, 155, 156, \n",
        "                  157, 158, 159, 160, 161, 162, 163, 164, 165, 166, 167, 168, 169, 170, 171, 172, 173, 174, 175, 176, 177, 178, 179, 180, 181, 182, \n",
        "                  183, 184, 185, 186, 187, 188, 189, 190, 191, 192, 193, 194, 195, 196, 217, 218, 219, 220, 221, 222, 223, 224, 242, 243]"
      ],
      "metadata": {
        "id": "2WTmIFBIkWVm"
      },
      "execution_count": null,
      "outputs": []
    },
    {
      "cell_type": "code",
      "source": [
        "df_dropped = df_new.drop(df.columns[params_to_drop], axis=1)"
      ],
      "metadata": {
        "id": "ErT2EwibkXql"
      },
      "execution_count": null,
      "outputs": []
    },
    {
      "cell_type": "code",
      "source": [
        "df_dropped.shape"
      ],
      "metadata": {
        "colab": {
          "base_uri": "https://localhost:8080/"
        },
        "id": "tZzGp7DpksHe",
        "outputId": "964230b8-372f-414b-f75a-90a3b28b23ec"
      },
      "execution_count": null,
      "outputs": [
        {
          "output_type": "execute_result",
          "data": {
            "text/plain": [
              "(1461, 134)"
            ]
          },
          "metadata": {},
          "execution_count": 11
        }
      ]
    },
    {
      "cell_type": "code",
      "source": [
        "np_df = df_dropped.to_numpy()"
      ],
      "metadata": {
        "id": "e-U6fZUXTdlG"
      },
      "execution_count": null,
      "outputs": []
    },
    {
      "cell_type": "code",
      "source": [
        "np.shape(np_df)"
      ],
      "metadata": {
        "colab": {
          "base_uri": "https://localhost:8080/"
        },
        "id": "8gBVbCNGTtV_",
        "outputId": "1ffd5c43-d327-412e-fc50-2236432c9739"
      },
      "execution_count": null,
      "outputs": [
        {
          "output_type": "execute_result",
          "data": {
            "text/plain": [
              "(1461, 134)"
            ]
          },
          "metadata": {},
          "execution_count": 13
        }
      ]
    },
    {
      "cell_type": "markdown",
      "source": [
        ""
      ],
      "metadata": {
        "id": "o3CJyJaRKaLD"
      }
    },
    {
      "cell_type": "code",
      "source": [
        "def img_to_np(img_path):\n",
        "  image = PIL.Image.open(img_mel_mfcc_path + '/' + str(img_path) + \".png\")\n",
        "  image_array = np.array(image)\n",
        "  return image_array"
      ],
      "metadata": {
        "id": "1b7AkZ6LRbaB"
      },
      "execution_count": null,
      "outputs": []
    },
    {
      "cell_type": "code",
      "source": [
        "np_img = np.array([img_to_np(img_path) for img_path in img_list])"
      ],
      "metadata": {
        "id": "l3hxL7AERo-H"
      },
      "execution_count": null,
      "outputs": []
    },
    {
      "cell_type": "code",
      "source": [
        "np.shape(np_img)"
      ],
      "metadata": {
        "colab": {
          "base_uri": "https://localhost:8080/"
        },
        "id": "9pl1DPB0RE1z",
        "outputId": "873f013a-2f80-42f6-da79-9002145c76d5"
      },
      "execution_count": null,
      "outputs": [
        {
          "output_type": "execute_result",
          "data": {
            "text/plain": [
              "(1461, 480, 640, 4)"
            ]
          },
          "metadata": {},
          "execution_count": 19
        }
      ]
    },
    {
      "cell_type": "code",
      "source": [
        "from keras.models import Sequential\n",
        "from keras.layers import Dense, Conv2D, Flatten, MaxPool2D\n",
        "from keras.callbacks import EarlyStopping\n",
        "\n",
        "# Specify the number \n",
        "n_outputs = 134\n",
        "input_shape = (480, 640, 4)\n",
        "\n",
        "early_stopping_monitor = EarlyStopping(monitor = \"val_loss\", patience=10)\n",
        "\n",
        "model = Sequential()\n",
        "model.add(Conv2D(10, kernel_size = 3, activation='relu', input_shape=input_shape))\n",
        "model.add(MaxPool2D(2))\n",
        "model.add(Conv2D(15, kernel_size = 3, activation='relu', input_shape=input_shape))\n",
        "model.add(MaxPool2D(2))\n",
        "model.add(Conv2D(20, kernel_size = 3, activation='relu', input_shape=input_shape))\n",
        "model.add(MaxPool2D(2))\n",
        "model.add(Conv2D(20, kernel_size = 3, activation='relu', input_shape=input_shape))\n",
        "model.add(MaxPool2D(2))\n",
        "model.add(Flatten())\n",
        "model.add(Dense(n_outputs, activation=\"linear\"))\n",
        "model.compile(optimizer='adam', loss='mean_squared_error', metrics=[tf.keras.metrics.MeanSquaredError()])\n",
        "\n",
        "model.fit(np_img, np_df, validation_split=0.3, epochs=100, callbacks = [early_stopping_monitor])"
      ],
      "metadata": {
        "colab": {
          "base_uri": "https://localhost:8080/"
        },
        "id": "Ob9p9B2DOUDm",
        "outputId": "a1b59853-3dfa-49fa-8fd2-b0385d49867c"
      },
      "execution_count": null,
      "outputs": [
        {
          "output_type": "stream",
          "name": "stdout",
          "text": [
            "Epoch 1/100\n",
            "32/32 [==============================] - 20s 251ms/step - loss: 334.4702 - mean_squared_error: 334.4702 - val_loss: 1.4131 - val_mean_squared_error: 1.4131\n",
            "Epoch 2/100\n",
            "32/32 [==============================] - 6s 176ms/step - loss: 0.9445 - mean_squared_error: 0.9445 - val_loss: 0.3687 - val_mean_squared_error: 0.3687\n",
            "Epoch 3/100\n",
            "32/32 [==============================] - 6s 176ms/step - loss: 0.3513 - mean_squared_error: 0.3513 - val_loss: 0.2599 - val_mean_squared_error: 0.2599\n",
            "Epoch 4/100\n",
            "32/32 [==============================] - 6s 176ms/step - loss: 0.2588 - mean_squared_error: 0.2588 - val_loss: 0.2084 - val_mean_squared_error: 0.2084\n",
            "Epoch 5/100\n",
            "32/32 [==============================] - 6s 177ms/step - loss: 0.2101 - mean_squared_error: 0.2101 - val_loss: 0.2028 - val_mean_squared_error: 0.2028\n",
            "Epoch 6/100\n",
            "32/32 [==============================] - 6s 177ms/step - loss: 0.1759 - mean_squared_error: 0.1759 - val_loss: 0.1609 - val_mean_squared_error: 0.1609\n",
            "Epoch 7/100\n",
            "32/32 [==============================] - 6s 177ms/step - loss: 0.1557 - mean_squared_error: 0.1557 - val_loss: 0.1550 - val_mean_squared_error: 0.1550\n",
            "Epoch 8/100\n",
            "32/32 [==============================] - 6s 178ms/step - loss: 0.1362 - mean_squared_error: 0.1362 - val_loss: 0.1462 - val_mean_squared_error: 0.1462\n",
            "Epoch 9/100\n",
            "32/32 [==============================] - 6s 179ms/step - loss: 0.1294 - mean_squared_error: 0.1294 - val_loss: 0.1482 - val_mean_squared_error: 0.1482\n",
            "Epoch 10/100\n",
            "32/32 [==============================] - 6s 181ms/step - loss: 0.1232 - mean_squared_error: 0.1232 - val_loss: 0.1408 - val_mean_squared_error: 0.1408\n",
            "Epoch 11/100\n",
            "32/32 [==============================] - 6s 181ms/step - loss: 0.1143 - mean_squared_error: 0.1143 - val_loss: 0.1351 - val_mean_squared_error: 0.1351\n",
            "Epoch 12/100\n",
            "32/32 [==============================] - 6s 182ms/step - loss: 0.1130 - mean_squared_error: 0.1130 - val_loss: 0.1374 - val_mean_squared_error: 0.1374\n",
            "Epoch 13/100\n",
            "32/32 [==============================] - 6s 182ms/step - loss: 0.1165 - mean_squared_error: 0.1165 - val_loss: 0.1331 - val_mean_squared_error: 0.1331\n",
            "Epoch 14/100\n",
            "32/32 [==============================] - 6s 185ms/step - loss: 0.1015 - mean_squared_error: 0.1015 - val_loss: 0.1266 - val_mean_squared_error: 0.1266\n",
            "Epoch 15/100\n",
            "32/32 [==============================] - 6s 183ms/step - loss: 0.1034 - mean_squared_error: 0.1034 - val_loss: 0.1333 - val_mean_squared_error: 0.1333\n",
            "Epoch 16/100\n",
            "32/32 [==============================] - 6s 183ms/step - loss: 0.1029 - mean_squared_error: 0.1029 - val_loss: 0.1219 - val_mean_squared_error: 0.1219\n",
            "Epoch 17/100\n",
            "32/32 [==============================] - 6s 184ms/step - loss: 0.0916 - mean_squared_error: 0.0916 - val_loss: 0.1295 - val_mean_squared_error: 0.1295\n",
            "Epoch 18/100\n",
            "32/32 [==============================] - 6s 186ms/step - loss: 0.0901 - mean_squared_error: 0.0901 - val_loss: 0.1342 - val_mean_squared_error: 0.1342\n",
            "Epoch 19/100\n",
            "32/32 [==============================] - 6s 187ms/step - loss: 0.0879 - mean_squared_error: 0.0879 - val_loss: 0.1208 - val_mean_squared_error: 0.1208\n",
            "Epoch 20/100\n",
            "32/32 [==============================] - 6s 187ms/step - loss: 0.0846 - mean_squared_error: 0.0846 - val_loss: 0.1215 - val_mean_squared_error: 0.1215\n",
            "Epoch 21/100\n",
            "32/32 [==============================] - 6s 189ms/step - loss: 0.0830 - mean_squared_error: 0.0830 - val_loss: 0.1191 - val_mean_squared_error: 0.1191\n",
            "Epoch 22/100\n",
            "32/32 [==============================] - 6s 203ms/step - loss: 0.0815 - mean_squared_error: 0.0815 - val_loss: 0.1293 - val_mean_squared_error: 0.1293\n",
            "Epoch 23/100\n",
            "32/32 [==============================] - 6s 189ms/step - loss: 0.0801 - mean_squared_error: 0.0801 - val_loss: 0.1197 - val_mean_squared_error: 0.1197\n",
            "Epoch 24/100\n",
            "32/32 [==============================] - 6s 188ms/step - loss: 0.0783 - mean_squared_error: 0.0783 - val_loss: 0.1204 - val_mean_squared_error: 0.1204\n",
            "Epoch 25/100\n",
            "32/32 [==============================] - 6s 186ms/step - loss: 0.0786 - mean_squared_error: 0.0786 - val_loss: 0.1215 - val_mean_squared_error: 0.1215\n",
            "Epoch 26/100\n",
            "32/32 [==============================] - 6s 186ms/step - loss: 0.0789 - mean_squared_error: 0.0789 - val_loss: 0.1194 - val_mean_squared_error: 0.1194\n",
            "Epoch 27/100\n",
            "32/32 [==============================] - 6s 186ms/step - loss: 0.0768 - mean_squared_error: 0.0768 - val_loss: 0.1198 - val_mean_squared_error: 0.1198\n",
            "Epoch 28/100\n",
            "32/32 [==============================] - 6s 187ms/step - loss: 0.0740 - mean_squared_error: 0.0740 - val_loss: 0.1156 - val_mean_squared_error: 0.1156\n",
            "Epoch 29/100\n",
            "32/32 [==============================] - 6s 185ms/step - loss: 0.0784 - mean_squared_error: 0.0784 - val_loss: 0.1219 - val_mean_squared_error: 0.1219\n",
            "Epoch 30/100\n",
            "32/32 [==============================] - 6s 185ms/step - loss: 0.0720 - mean_squared_error: 0.0720 - val_loss: 0.1161 - val_mean_squared_error: 0.1161\n",
            "Epoch 31/100\n",
            "32/32 [==============================] - 6s 187ms/step - loss: 0.0767 - mean_squared_error: 0.0767 - val_loss: 0.1294 - val_mean_squared_error: 0.1294\n",
            "Epoch 32/100\n",
            "32/32 [==============================] - 6s 189ms/step - loss: 0.0728 - mean_squared_error: 0.0728 - val_loss: 0.1155 - val_mean_squared_error: 0.1155\n",
            "Epoch 33/100\n",
            "32/32 [==============================] - 6s 185ms/step - loss: 0.0770 - mean_squared_error: 0.0770 - val_loss: 0.1203 - val_mean_squared_error: 0.1203\n",
            "Epoch 34/100\n",
            "32/32 [==============================] - 6s 187ms/step - loss: 0.0691 - mean_squared_error: 0.0691 - val_loss: 0.1128 - val_mean_squared_error: 0.1128\n",
            "Epoch 35/100\n",
            "32/32 [==============================] - 6s 187ms/step - loss: 0.0707 - mean_squared_error: 0.0707 - val_loss: 0.1267 - val_mean_squared_error: 0.1267\n",
            "Epoch 36/100\n",
            "32/32 [==============================] - 6s 187ms/step - loss: 0.0662 - mean_squared_error: 0.0662 - val_loss: 0.1171 - val_mean_squared_error: 0.1171\n",
            "Epoch 37/100\n",
            "32/32 [==============================] - 6s 187ms/step - loss: 0.0687 - mean_squared_error: 0.0687 - val_loss: 0.1183 - val_mean_squared_error: 0.1183\n",
            "Epoch 38/100\n",
            "32/32 [==============================] - 6s 186ms/step - loss: 0.0649 - mean_squared_error: 0.0649 - val_loss: 0.1128 - val_mean_squared_error: 0.1128\n",
            "Epoch 39/100\n",
            "32/32 [==============================] - 6s 187ms/step - loss: 0.0664 - mean_squared_error: 0.0664 - val_loss: 0.1163 - val_mean_squared_error: 0.1163\n",
            "Epoch 40/100\n",
            "32/32 [==============================] - 6s 187ms/step - loss: 0.0653 - mean_squared_error: 0.0653 - val_loss: 0.1114 - val_mean_squared_error: 0.1114\n",
            "Epoch 41/100\n",
            "32/32 [==============================] - 6s 186ms/step - loss: 0.0634 - mean_squared_error: 0.0634 - val_loss: 0.1120 - val_mean_squared_error: 0.1120\n",
            "Epoch 42/100\n",
            "32/32 [==============================] - 6s 187ms/step - loss: 0.0612 - mean_squared_error: 0.0612 - val_loss: 0.1095 - val_mean_squared_error: 0.1095\n",
            "Epoch 43/100\n",
            "32/32 [==============================] - 6s 187ms/step - loss: 0.0643 - mean_squared_error: 0.0643 - val_loss: 0.1122 - val_mean_squared_error: 0.1122\n",
            "Epoch 44/100\n",
            "32/32 [==============================] - 6s 187ms/step - loss: 0.0618 - mean_squared_error: 0.0618 - val_loss: 0.1095 - val_mean_squared_error: 0.1095\n",
            "Epoch 45/100\n",
            "32/32 [==============================] - 6s 187ms/step - loss: 0.0607 - mean_squared_error: 0.0607 - val_loss: 0.1150 - val_mean_squared_error: 0.1150\n",
            "Epoch 46/100\n",
            "32/32 [==============================] - 6s 186ms/step - loss: 0.0667 - mean_squared_error: 0.0667 - val_loss: 0.1109 - val_mean_squared_error: 0.1109\n",
            "Epoch 47/100\n",
            "32/32 [==============================] - 6s 187ms/step - loss: 0.0662 - mean_squared_error: 0.0662 - val_loss: 0.1305 - val_mean_squared_error: 0.1305\n",
            "Epoch 48/100\n",
            "32/32 [==============================] - 6s 187ms/step - loss: 0.0655 - mean_squared_error: 0.0655 - val_loss: 0.1191 - val_mean_squared_error: 0.1191\n",
            "Epoch 49/100\n",
            "32/32 [==============================] - 6s 187ms/step - loss: 0.0577 - mean_squared_error: 0.0577 - val_loss: 0.1087 - val_mean_squared_error: 0.1087\n",
            "Epoch 50/100\n",
            "32/32 [==============================] - 6s 187ms/step - loss: 0.0571 - mean_squared_error: 0.0571 - val_loss: 0.1152 - val_mean_squared_error: 0.1152\n",
            "Epoch 51/100\n",
            "32/32 [==============================] - 6s 187ms/step - loss: 0.0571 - mean_squared_error: 0.0571 - val_loss: 0.1084 - val_mean_squared_error: 0.1084\n",
            "Epoch 52/100\n",
            "32/32 [==============================] - 6s 187ms/step - loss: 0.0557 - mean_squared_error: 0.0557 - val_loss: 0.1071 - val_mean_squared_error: 0.1071\n",
            "Epoch 53/100\n",
            "32/32 [==============================] - 6s 187ms/step - loss: 0.0575 - mean_squared_error: 0.0575 - val_loss: 0.1141 - val_mean_squared_error: 0.1141\n",
            "Epoch 54/100\n",
            "32/32 [==============================] - 6s 188ms/step - loss: 0.0587 - mean_squared_error: 0.0587 - val_loss: 0.1218 - val_mean_squared_error: 0.1218\n",
            "Epoch 55/100\n",
            "32/32 [==============================] - 6s 187ms/step - loss: 0.0552 - mean_squared_error: 0.0552 - val_loss: 0.1109 - val_mean_squared_error: 0.1109\n",
            "Epoch 56/100\n",
            "32/32 [==============================] - 6s 188ms/step - loss: 0.0555 - mean_squared_error: 0.0555 - val_loss: 0.1117 - val_mean_squared_error: 0.1117\n",
            "Epoch 57/100\n",
            "32/32 [==============================] - 6s 187ms/step - loss: 0.0543 - mean_squared_error: 0.0543 - val_loss: 0.1103 - val_mean_squared_error: 0.1103\n",
            "Epoch 58/100\n",
            "32/32 [==============================] - 6s 187ms/step - loss: 0.0547 - mean_squared_error: 0.0547 - val_loss: 0.1115 - val_mean_squared_error: 0.1115\n",
            "Epoch 59/100\n",
            "32/32 [==============================] - 6s 187ms/step - loss: 0.0550 - mean_squared_error: 0.0550 - val_loss: 0.1124 - val_mean_squared_error: 0.1124\n",
            "Epoch 60/100\n",
            "32/32 [==============================] - 6s 187ms/step - loss: 0.0523 - mean_squared_error: 0.0523 - val_loss: 0.1100 - val_mean_squared_error: 0.1100\n",
            "Epoch 61/100\n",
            "32/32 [==============================] - 6s 188ms/step - loss: 0.0552 - mean_squared_error: 0.0552 - val_loss: 0.1070 - val_mean_squared_error: 0.1070\n",
            "Epoch 62/100\n",
            "32/32 [==============================] - 6s 187ms/step - loss: 0.0516 - mean_squared_error: 0.0516 - val_loss: 0.1082 - val_mean_squared_error: 0.1082\n",
            "Epoch 63/100\n",
            "32/32 [==============================] - 6s 191ms/step - loss: 0.0514 - mean_squared_error: 0.0514 - val_loss: 0.1122 - val_mean_squared_error: 0.1122\n",
            "Epoch 64/100\n",
            "32/32 [==============================] - 6s 188ms/step - loss: 0.0558 - mean_squared_error: 0.0558 - val_loss: 0.1121 - val_mean_squared_error: 0.1121\n",
            "Epoch 65/100\n",
            "32/32 [==============================] - 6s 186ms/step - loss: 0.0536 - mean_squared_error: 0.0536 - val_loss: 0.1136 - val_mean_squared_error: 0.1136\n",
            "Epoch 66/100\n",
            "32/32 [==============================] - 6s 188ms/step - loss: 0.0519 - mean_squared_error: 0.0519 - val_loss: 0.1078 - val_mean_squared_error: 0.1078\n",
            "Epoch 67/100\n",
            "32/32 [==============================] - 6s 187ms/step - loss: 0.0512 - mean_squared_error: 0.0512 - val_loss: 0.1068 - val_mean_squared_error: 0.1068\n",
            "Epoch 68/100\n",
            "32/32 [==============================] - 6s 188ms/step - loss: 0.0494 - mean_squared_error: 0.0494 - val_loss: 0.1098 - val_mean_squared_error: 0.1098\n",
            "Epoch 69/100\n",
            "32/32 [==============================] - 6s 187ms/step - loss: 0.0495 - mean_squared_error: 0.0495 - val_loss: 0.1063 - val_mean_squared_error: 0.1063\n",
            "Epoch 70/100\n",
            "32/32 [==============================] - 6s 187ms/step - loss: 0.0515 - mean_squared_error: 0.0515 - val_loss: 0.1074 - val_mean_squared_error: 0.1074\n",
            "Epoch 71/100\n",
            "32/32 [==============================] - 6s 187ms/step - loss: 0.0509 - mean_squared_error: 0.0509 - val_loss: 0.1103 - val_mean_squared_error: 0.1103\n",
            "Epoch 72/100\n",
            "32/32 [==============================] - 6s 186ms/step - loss: 0.0498 - mean_squared_error: 0.0498 - val_loss: 0.1106 - val_mean_squared_error: 0.1106\n",
            "Epoch 73/100\n",
            "32/32 [==============================] - 6s 186ms/step - loss: 0.0477 - mean_squared_error: 0.0477 - val_loss: 0.1092 - val_mean_squared_error: 0.1092\n",
            "Epoch 74/100\n",
            "32/32 [==============================] - 6s 187ms/step - loss: 0.0469 - mean_squared_error: 0.0469 - val_loss: 0.1073 - val_mean_squared_error: 0.1073\n",
            "Epoch 75/100\n",
            "32/32 [==============================] - 6s 188ms/step - loss: 0.0468 - mean_squared_error: 0.0468 - val_loss: 0.1101 - val_mean_squared_error: 0.1101\n",
            "Epoch 76/100\n",
            "32/32 [==============================] - 6s 187ms/step - loss: 0.0467 - mean_squared_error: 0.0467 - val_loss: 0.1117 - val_mean_squared_error: 0.1117\n",
            "Epoch 77/100\n",
            "32/32 [==============================] - 6s 187ms/step - loss: 0.0463 - mean_squared_error: 0.0463 - val_loss: 0.1064 - val_mean_squared_error: 0.1064\n",
            "Epoch 78/100\n",
            "32/32 [==============================] - 6s 186ms/step - loss: 0.0461 - mean_squared_error: 0.0461 - val_loss: 0.1070 - val_mean_squared_error: 0.1070\n",
            "Epoch 79/100\n",
            "32/32 [==============================] - 6s 187ms/step - loss: 0.0457 - mean_squared_error: 0.0457 - val_loss: 0.1062 - val_mean_squared_error: 0.1062\n",
            "Epoch 80/100\n",
            "32/32 [==============================] - 6s 187ms/step - loss: 0.0454 - mean_squared_error: 0.0454 - val_loss: 0.1070 - val_mean_squared_error: 0.1070\n",
            "Epoch 81/100\n",
            "32/32 [==============================] - 6s 186ms/step - loss: 0.0445 - mean_squared_error: 0.0445 - val_loss: 0.1058 - val_mean_squared_error: 0.1058\n",
            "Epoch 82/100\n",
            "32/32 [==============================] - 6s 186ms/step - loss: 0.0450 - mean_squared_error: 0.0450 - val_loss: 0.1096 - val_mean_squared_error: 0.1096\n",
            "Epoch 83/100\n",
            "32/32 [==============================] - 6s 187ms/step - loss: 0.0443 - mean_squared_error: 0.0443 - val_loss: 0.1064 - val_mean_squared_error: 0.1064\n",
            "Epoch 84/100\n",
            "32/32 [==============================] - 6s 188ms/step - loss: 0.0449 - mean_squared_error: 0.0449 - val_loss: 0.1051 - val_mean_squared_error: 0.1051\n",
            "Epoch 85/100\n",
            "32/32 [==============================] - 6s 188ms/step - loss: 0.0449 - mean_squared_error: 0.0449 - val_loss: 0.1073 - val_mean_squared_error: 0.1073\n",
            "Epoch 86/100\n",
            "32/32 [==============================] - 6s 187ms/step - loss: 0.0444 - mean_squared_error: 0.0444 - val_loss: 0.1108 - val_mean_squared_error: 0.1108\n",
            "Epoch 87/100\n",
            "32/32 [==============================] - 6s 187ms/step - loss: 0.0436 - mean_squared_error: 0.0436 - val_loss: 0.1105 - val_mean_squared_error: 0.1105\n",
            "Epoch 88/100\n",
            "32/32 [==============================] - 6s 187ms/step - loss: 0.0439 - mean_squared_error: 0.0439 - val_loss: 0.1067 - val_mean_squared_error: 0.1067\n",
            "Epoch 89/100\n",
            "32/32 [==============================] - 6s 187ms/step - loss: 0.0440 - mean_squared_error: 0.0440 - val_loss: 0.1069 - val_mean_squared_error: 0.1069\n",
            "Epoch 90/100\n",
            "32/32 [==============================] - 6s 187ms/step - loss: 0.0427 - mean_squared_error: 0.0427 - val_loss: 0.1064 - val_mean_squared_error: 0.1064\n",
            "Epoch 91/100\n",
            "32/32 [==============================] - 6s 187ms/step - loss: 0.0428 - mean_squared_error: 0.0428 - val_loss: 0.1131 - val_mean_squared_error: 0.1131\n",
            "Epoch 92/100\n",
            "32/32 [==============================] - 6s 186ms/step - loss: 0.0440 - mean_squared_error: 0.0440 - val_loss: 0.1077 - val_mean_squared_error: 0.1077\n",
            "Epoch 93/100\n",
            "32/32 [==============================] - 6s 187ms/step - loss: 0.0423 - mean_squared_error: 0.0423 - val_loss: 0.1083 - val_mean_squared_error: 0.1083\n",
            "Epoch 94/100\n",
            "32/32 [==============================] - 6s 187ms/step - loss: 0.0422 - mean_squared_error: 0.0422 - val_loss: 0.1136 - val_mean_squared_error: 0.1136\n"
          ]
        },
        {
          "output_type": "execute_result",
          "data": {
            "text/plain": [
              "<keras.callbacks.History at 0x7f730da2d4d0>"
            ]
          },
          "metadata": {},
          "execution_count": 20
        }
      ]
    },
    {
      "cell_type": "code",
      "source": [
        "0.0607"
      ],
      "metadata": {
        "id": "rba3no8lQHBU"
      },
      "execution_count": null,
      "outputs": []
    }
  ]
}